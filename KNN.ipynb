{
  "nbformat": 4,
  "nbformat_minor": 0,
  "metadata": {
    "colab": {
      "provenance": []
    },
    "kernelspec": {
      "name": "python3",
      "display_name": "Python 3"
    },
    "language_info": {
      "name": "python"
    }
  },
  "cells": [
    {
      "cell_type": "markdown",
      "source": [
        "**Imports**"
      ],
      "metadata": {
        "id": "WuePKKl5lt2c"
      }
    },
    {
      "cell_type": "code",
      "execution_count": null,
      "metadata": {
        "id": "av2x97mUljQF"
      },
      "outputs": [],
      "source": [
        "import numpy as np\n",
        "import pandas as pd\n",
        "from sklearn import neighbors,metrics\n",
        "from sklearn.model_selection import train_test_split\n",
        "from sklearn.preprocessing import LabelEncoder"
      ]
    },
    {
      "cell_type": "code",
      "source": [],
      "metadata": {
        "id": "4K2M9ogWmzd2"
      },
      "execution_count": null,
      "outputs": []
    },
    {
      "cell_type": "code",
      "source": [
        "data = pd.read_csv('car.data')\n",
        "print(data.head())"
      ],
      "metadata": {
        "colab": {
          "base_uri": "https://localhost:8080/"
        },
        "id": "T9DuiAYOlwn_",
        "outputId": "06aa9831-c968-42d4-b60c-1899d4b005e5"
      },
      "execution_count": null,
      "outputs": [
        {
          "output_type": "stream",
          "name": "stdout",
          "text": [
            "  buying  maint doors persons lug_boots safety  class\n",
            "0  vhigh  vhigh     2       2     small    low  unacc\n",
            "1  vhigh  vhigh     2       2     small    med  unacc\n",
            "2  vhigh  vhigh     2       2     small   high  unacc\n",
            "3  vhigh  vhigh     2       2       med    low  unacc\n",
            "4  vhigh  vhigh     2       2       med    med  unacc\n"
          ]
        }
      ]
    },
    {
      "cell_type": "code",
      "source": [
        "x = data[['buying','maint','safety']].values\n",
        "    \n",
        "y = data[['class']]\n",
        "print(x,y)"
      ],
      "metadata": {
        "colab": {
          "base_uri": "https://localhost:8080/"
        },
        "id": "SWsPQVkvl350",
        "outputId": "43b8bc21-996e-4023-9c2f-cb5338911a08"
      },
      "execution_count": null,
      "outputs": [
        {
          "output_type": "stream",
          "name": "stdout",
          "text": [
            "[['vhigh' 'vhigh' 'low']\n",
            " ['vhigh' 'vhigh' 'med']\n",
            " ['vhigh' 'vhigh' 'high']\n",
            " ...\n",
            " ['low' 'low' 'low']\n",
            " ['low' 'low' 'med']\n",
            " ['low' 'low' 'high']]       class\n",
            "0     unacc\n",
            "1     unacc\n",
            "2     unacc\n",
            "3     unacc\n",
            "4     unacc\n",
            "...     ...\n",
            "1723   good\n",
            "1724  vgood\n",
            "1725  unacc\n",
            "1726   good\n",
            "1727  vgood\n",
            "\n",
            "[1728 rows x 1 columns]\n"
          ]
        }
      ]
    },
    {
      "cell_type": "markdown",
      "source": [
        "**converting the data**"
      ],
      "metadata": {
        "id": "UDp99fEbof_2"
      }
    },
    {
      "cell_type": "code",
      "source": [
        "Le= LabelEncoder()\n",
        "for i in range(len(x[0])):\n",
        "    x[:,i] = Le.fit_transform(x[:,i])\n",
        "\n",
        "print(x)"
      ],
      "metadata": {
        "colab": {
          "base_uri": "https://localhost:8080/"
        },
        "id": "o4W6qV83nISL",
        "outputId": "24d5a235-f282-4619-c56e-6b440c5a827b"
      },
      "execution_count": null,
      "outputs": [
        {
          "output_type": "stream",
          "name": "stdout",
          "text": [
            "[[3 3 1]\n",
            " [3 3 2]\n",
            " [3 3 0]\n",
            " ...\n",
            " [1 1 1]\n",
            " [1 1 2]\n",
            " [1 1 0]]\n"
          ]
        }
      ]
    },
    {
      "cell_type": "code",
      "source": [
        "label_maping = {\n",
        "    'unacc':0,\n",
        "    'acc':1,\n",
        "    'good':2,\n",
        "    'vgood':3\n",
        "}"
      ],
      "metadata": {
        "id": "2IJiyL5nomyg"
      },
      "execution_count": null,
      "outputs": []
    },
    {
      "cell_type": "code",
      "source": [
        "y['class'] = y['class'].map(label_maping)\n",
        "y = np.array(y)\n",
        "print(y)"
      ],
      "metadata": {
        "colab": {
          "base_uri": "https://localhost:8080/"
        },
        "id": "yp2Uwmi-oq0c",
        "outputId": "ed9a0561-d16f-4aff-d90d-35994b10415d"
      },
      "execution_count": null,
      "outputs": [
        {
          "output_type": "stream",
          "name": "stdout",
          "text": [
            "[[0]\n",
            " [0]\n",
            " [0]\n",
            " ...\n",
            " [0]\n",
            " [2]\n",
            " [3]]\n"
          ]
        },
        {
          "output_type": "stream",
          "name": "stderr",
          "text": [
            "<ipython-input-16-29790d81b735>:1: SettingWithCopyWarning: \n",
            "A value is trying to be set on a copy of a slice from a DataFrame.\n",
            "Try using .loc[row_indexer,col_indexer] = value instead\n",
            "\n",
            "See the caveats in the documentation: https://pandas.pydata.org/pandas-docs/stable/user_guide/indexing.html#returning-a-view-versus-a-copy\n",
            "  y['class'] = y['class'].map(label_maping)\n"
          ]
        }
      ]
    },
    {
      "cell_type": "markdown",
      "source": [
        "**creat model**"
      ],
      "metadata": {
        "id": "YH7auycaoxkg"
      }
    },
    {
      "cell_type": "code",
      "source": [
        "knn = neighbors.KNeighborsClassifier(n_neighbors=25,weights='uniform')\n",
        "\n",
        "x_train, x_test, y_train, y_test= train_test_split(x,y, test_size=0.2)\n",
        "\n",
        "knn.fit(x_train,y_train)\n",
        "\n",
        "prediction = knn.predict(x_test)"
      ],
      "metadata": {
        "colab": {
          "base_uri": "https://localhost:8080/"
        },
        "id": "y0fs_rH0ot1Y",
        "outputId": "4c84749f-a6d8-480c-c13a-2036713e158f"
      },
      "execution_count": null,
      "outputs": [
        {
          "output_type": "stream",
          "name": "stderr",
          "text": [
            "/usr/local/lib/python3.8/dist-packages/sklearn/neighbors/_classification.py:198: DataConversionWarning: A column-vector y was passed when a 1d array was expected. Please change the shape of y to (n_samples,), for example using ravel().\n",
            "  return self._fit(X, y)\n"
          ]
        }
      ]
    },
    {
      "cell_type": "code",
      "source": [
        "accuracy= metrics.accuracy_score(y_test,prediction)\n",
        "print(\"prediction: \", prediction)\n",
        "print(\"accuracy: \", accuracy)\n",
        "a =600\n",
        "print(\"actual value: \", y[a])\n",
        "print(\"predicted value: \", knn.predict(x)[a])"
      ],
      "metadata": {
        "colab": {
          "base_uri": "https://localhost:8080/"
        },
        "id": "Q-VEmD4yo091",
        "outputId": "b4e07c2a-b127-462a-8973-4f3e27cf524d"
      },
      "execution_count": null,
      "outputs": [
        {
          "output_type": "stream",
          "name": "stdout",
          "text": [
            "prediction:  [0 0 0 0 2 2 0 0 0 0 0 0 1 0 1 0 0 0 0 1 1 0 0 0 0 0 0 1 0 0 2 0 0 0 1 0 0\n",
            " 2 0 0 0 1 0 0 0 0 0 0 0 0 0 0 0 0 0 0 1 0 0 0 0 0 0 1 0 3 0 0 0 0 0 3 0 0\n",
            " 0 0 0 0 0 0 0 2 0 0 0 0 2 1 3 0 0 0 0 0 0 0 0 1 0 0 1 1 0 0 0 0 0 0 1 0 0\n",
            " 1 0 0 1 0 0 1 0 0 1 2 0 0 1 0 1 1 0 0 0 2 1 0 0 1 1 0 3 0 0 0 0 0 0 0 0 2\n",
            " 0 0 0 3 0 2 0 2 0 0 0 0 3 0 0 0 1 0 0 1 1 2 0 0 0 1 0 3 0 0 0 0 2 0 0 0 0\n",
            " 0 1 0 0 0 1 3 0 0 0 0 0 0 0 1 0 1 3 1 0 2 1 0 0 0 0 2 0 2 0 0 0 0 1 0 0 0\n",
            " 0 0 0 1 0 0 0 0 0 0 0 0 0 1 0 0 0 0 1 1 0 0 1 0 1 0 0 1 0 0 3 0 1 0 0 0 0\n",
            " 0 1 1 0 0 0 0 1 0 0 3 0 0 0 0 1 0 1 0 0 3 3 2 0 0 2 0 0 0 1 0 0 0 0 1 0 0\n",
            " 1 0 0 0 0 0 0 0 1 2 2 0 1 1 0 1 0 1 0 0 0 0 0 0 0 0 0 0 0 0 3 0 1 0 0 1 1\n",
            " 0 0 0 0 0 1 1 0 0 0 0 0 0]\n",
            "accuracy:  0.7398843930635838\n",
            "actual value:  [0]\n",
            "predicted value:  0\n"
          ]
        }
      ]
    },
    {
      "cell_type": "code",
      "source": [],
      "metadata": {
        "id": "FFxBI9-to3eC"
      },
      "execution_count": null,
      "outputs": []
    }
  ]
}